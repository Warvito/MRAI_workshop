{
 "cells": [
  {
   "cell_type": "markdown",
   "metadata": {},
   "source": [
    "# Case Study"
   ]
  },
  {
   "cell_type": "markdown",
   "metadata": {},
   "source": [
    "## Background\n",
    "\n",
    "Heart disease is the leading cause of death globally. __Heart failure__ is the primary cause of heart diseases, and that refers to a physiological state in which the heart is unable to pump sufficiently to maintain blood flow to meet the body's need. It usually occurs because the heart has become too weak or stiff. \n",
    "\n",
    "HF is routinely diagnosed by:\n",
    "* __Electrocardiogram (ECG)__, which measure heart's rhythm and electrical activity. From the ECG the QRS duration can be computed. An increased QRS duration, indicate dyssynchronous contraction and relaxation of the left and right ventricles and it is a marker of detection of HF subjects.\n",
    "* __MRI__ or __US imaging__ which provides structural and functional information of the heart. Evaluation of the structure and the function of the ventricles can provide useful information for diagnosis and characterization of disease. \n",
    " \t \t\n",
    "Based on the result of these tests, doctors use NYHA class to classify patients' heart failure according to the severity of their symptoms:\n",
    "\n",
    "__Class I__: no limitation is experienced in any activities; there are no symptoms from ordinary activities.\n",
    "\n",
    "__Class II__: slight, mild limitation of activity; the patient is comfortable at rest or with mild exertion.\n",
    "\n",
    "__Class III__: marked limitation of any activity; the patient is comfortable only at rest.\n",
    "\n",
    "__Class IV__: any physical activity brings on discomfort and symptoms occur at rest.\n",
    "\n",
    "### Current diagnostic technique\n",
    "\n",
    "Currently, the parameters used in clinics to identify cardiac patients are:\n",
    "* __LVEDV__ which is the maximum amount of blood that heart can pump\n",
    "* __LVESV__ which is the minium amount of blood that heart can pump\n",
    "* __LVSV__ which is the amount of blood pumped by the left ventricle of the heart in one contraction. \n",
    "* __Ejection fraction (LVEF)__, which computes the amount of blood of the left ventricle (LV) pumps out with each contraction. A normal heart’s ejection fraction may be between 50 and 70 percent.\n"
   ]
  },
  {
   "cell_type": "markdown",
   "metadata": {},
   "source": [
    "## Objective\n",
    "\n",
    "The objective of this workshop is twofold:\n",
    "\n",
    "1. Improve the quality of a pre-trained segmentation neural network to segment the left ventricle (LV) of the heart\n",
    "2. Train a simple deep neural network (DNN) to classify between healthy and heart failure subjects using clinical metrics, i.e. LVEDV, LVESV, LVSV and LVEF\n"
   ]
  },
  {
   "cell_type": "markdown",
   "metadata": {},
   "source": [
    "# 1. Image segmentaion\n",
    "\n",
    "\n",
    "In this exercise we will segment the left ventricle of the heart in relatively small images using neural networks. Below is the code for setting up a segmentation network and training it. The network isn't very good, so the exercise is to improve the quality of the segmentation by improving the network. \n",
    "\n",
    "The data being used here is derived from the Sunnybrook Dataset (https://www.cardiacatlas.org/studies/sunnybrook-cardiac-data/) of cardiac images, filtered to contain only left ventricle myocardium segmentations and reduced in XY dimensions.\n",
    "\n",
    "Tensorflow 2.0 documentation can be found here: https://www.tensorflow.org/beta/\n"
   ]
  },
  {
   "cell_type": "markdown",
   "metadata": {},
   "source": [
    "## Dependences"
   ]
  },
  {
   "cell_type": "code",
   "execution_count": 1,
   "metadata": {},
   "outputs": [
    {
     "name": "stdout",
     "output_type": "stream",
     "text": [
      "Requirement already satisfied: tensorflow==2.0.0-beta1 in ./venv/lib/python3.5/site-packages (2.0.0b1)\n",
      "Requirement already satisfied: tb-nightly<1.14.0a20190604,>=1.14.0a20190603 in ./venv/lib/python3.5/site-packages (from tensorflow==2.0.0-beta1) (1.14.0a20190603)\n",
      "Requirement already satisfied: keras-applications>=1.0.6 in ./venv/lib/python3.5/site-packages (from tensorflow==2.0.0-beta1) (1.0.8)\n",
      "Requirement already satisfied: keras-preprocessing>=1.0.5 in ./venv/lib/python3.5/site-packages (from tensorflow==2.0.0-beta1) (1.1.0)\n",
      "Requirement already satisfied: gast>=0.2.0 in ./venv/lib/python3.5/site-packages (from tensorflow==2.0.0-beta1) (0.2.2)\n",
      "Requirement already satisfied: wrapt>=1.11.1 in ./venv/lib/python3.5/site-packages (from tensorflow==2.0.0-beta1) (1.11.2)\n",
      "Requirement already satisfied: wheel>=0.26 in ./venv/lib/python3.5/site-packages (from tensorflow==2.0.0-beta1) (0.33.4)\n",
      "Requirement already satisfied: absl-py>=0.7.0 in ./venv/lib/python3.5/site-packages (from tensorflow==2.0.0-beta1) (0.7.1)\n",
      "Requirement already satisfied: grpcio>=1.8.6 in ./venv/lib/python3.5/site-packages (from tensorflow==2.0.0-beta1) (1.22.0)\n",
      "Requirement already satisfied: numpy<2.0,>=1.14.5 in ./venv/lib/python3.5/site-packages (from tensorflow==2.0.0-beta1) (1.16.4)\n",
      "Requirement already satisfied: protobuf>=3.6.1 in ./venv/lib/python3.5/site-packages (from tensorflow==2.0.0-beta1) (3.9.0)\n",
      "Requirement already satisfied: google-pasta>=0.1.6 in ./venv/lib/python3.5/site-packages (from tensorflow==2.0.0-beta1) (0.1.7)\n",
      "Requirement already satisfied: termcolor>=1.1.0 in ./venv/lib/python3.5/site-packages (from tensorflow==2.0.0-beta1) (1.1.0)\n",
      "Requirement already satisfied: tf-estimator-nightly<1.14.0.dev2019060502,>=1.14.0.dev2019060501 in ./venv/lib/python3.5/site-packages (from tensorflow==2.0.0-beta1) (1.14.0.dev2019060501)\n",
      "Requirement already satisfied: astor>=0.6.0 in ./venv/lib/python3.5/site-packages (from tensorflow==2.0.0-beta1) (0.8.0)\n",
      "Requirement already satisfied: six>=1.10.0 in ./venv/lib/python3.5/site-packages (from tensorflow==2.0.0-beta1) (1.12.0)\n",
      "Requirement already satisfied: werkzeug>=0.11.15 in ./venv/lib/python3.5/site-packages (from tb-nightly<1.14.0a20190604,>=1.14.0a20190603->tensorflow==2.0.0-beta1) (0.15.4)\n",
      "Requirement already satisfied: markdown>=2.6.8 in ./venv/lib/python3.5/site-packages (from tb-nightly<1.14.0a20190604,>=1.14.0a20190603->tensorflow==2.0.0-beta1) (3.1.1)\n",
      "Requirement already satisfied: setuptools>=41.0.0 in ./venv/lib/python3.5/site-packages (from tb-nightly<1.14.0a20190604,>=1.14.0a20190603->tensorflow==2.0.0-beta1) (41.0.1)\n",
      "Requirement already satisfied: h5py in ./venv/lib/python3.5/site-packages (from keras-applications>=1.0.6->tensorflow==2.0.0-beta1) (2.9.0)\n",
      "\u001b[33mWARNING: You are using pip version 19.1.1, however version 19.2.1 is available.\n",
      "You should consider upgrading via the 'pip install --upgrade pip' command.\u001b[0m\n",
      "Requirement already satisfied: matplotlib in ./venv/lib/python3.5/site-packages (3.0.3)\n",
      "Requirement already satisfied: cycler>=0.10 in ./venv/lib/python3.5/site-packages (from matplotlib) (0.10.0)\n",
      "Requirement already satisfied: kiwisolver>=1.0.1 in ./venv/lib/python3.5/site-packages (from matplotlib) (1.1.0)\n",
      "Requirement already satisfied: pyparsing!=2.0.4,!=2.1.2,!=2.1.6,>=2.0.1 in ./venv/lib/python3.5/site-packages (from matplotlib) (2.4.0)\n",
      "Requirement already satisfied: python-dateutil>=2.1 in ./venv/lib/python3.5/site-packages (from matplotlib) (2.8.0)\n",
      "Requirement already satisfied: numpy>=1.10.0 in ./venv/lib/python3.5/site-packages (from matplotlib) (1.16.4)\n",
      "Requirement already satisfied: six in ./venv/lib/python3.5/site-packages (from cycler>=0.10->matplotlib) (1.12.0)\n",
      "Requirement already satisfied: setuptools in ./venv/lib/python3.5/site-packages (from kiwisolver>=1.0.1->matplotlib) (41.0.1)\n",
      "\u001b[33mWARNING: You are using pip version 19.1.1, however version 19.2.1 is available.\n",
      "You should consider upgrading via the 'pip install --upgrade pip' command.\u001b[0m\n",
      "Requirement already satisfied: scikit-learn in ./venv/lib/python3.5/site-packages (0.21.2)\n",
      "Requirement already satisfied: joblib>=0.11 in ./venv/lib/python3.5/site-packages (from scikit-learn) (0.13.2)\n",
      "Requirement already satisfied: scipy>=0.17.0 in ./venv/lib/python3.5/site-packages (from scikit-learn) (1.3.0)\n",
      "Requirement already satisfied: numpy>=1.11.0 in ./venv/lib/python3.5/site-packages (from scikit-learn) (1.16.4)\n",
      "\u001b[33mWARNING: You are using pip version 19.1.1, however version 19.2.1 is available.\n",
      "You should consider upgrading via the 'pip install --upgrade pip' command.\u001b[0m\n",
      "Requirement already satisfied: pydot in ./venv/lib/python3.5/site-packages (1.4.1)\n",
      "Requirement already satisfied: pyparsing>=2.1.4 in ./venv/lib/python3.5/site-packages (from pydot) (2.4.0)\n",
      "\u001b[33mWARNING: You are using pip version 19.1.1, however version 19.2.1 is available.\n",
      "You should consider upgrading via the 'pip install --upgrade pip' command.\u001b[0m\n",
      "Requirement already satisfied: graphviz in ./venv/lib/python3.5/site-packages (0.11.1)\n",
      "\u001b[33mWARNING: You are using pip version 19.1.1, however version 19.2.1 is available.\n",
      "You should consider upgrading via the 'pip install --upgrade pip' command.\u001b[0m\n"
     ]
    }
   ],
   "source": [
    "! pip install tensorflow==2.0.0-beta1 \n",
    "! pip install matplotlib\n",
    "! pip install scikit-learn\n",
    "! pip install pydot\n",
    "! pip install graphviz"
   ]
  },
  {
   "cell_type": "markdown",
   "metadata": {},
   "source": [
    "## Imports"
   ]
  },
  {
   "cell_type": "code",
   "execution_count": 2,
   "metadata": {},
   "outputs": [],
   "source": [
    "%matplotlib inline\n",
    "\n",
    "import os\n",
    "import numpy as np\n",
    "import pylab as plt\n",
    "import tensorflow as tf\n",
    "from tensorflow import keras\n",
    "from sklearn.metrics import balanced_accuracy_score\n",
    "from sklearn.metrics import precision_score, recall_score\n",
    "from sklearn.model_selection import StratifiedShuffleSplit\n"
   ]
  },
  {
   "cell_type": "markdown",
   "metadata": {},
   "source": [
    "## Download dataset\n"
   ]
  },
  {
   "cell_type": "code",
   "execution_count": 3,
   "metadata": {},
   "outputs": [
    {
     "data": {
      "text/plain": [
       "<matplotlib.image.AxesImage at 0x7fb3e3716278>"
      ]
     },
     "execution_count": 3,
     "metadata": {},
     "output_type": "execute_result"
    },
    {
     "data": {
      "image/png": "[encoded data removed]",
      "text/plain": [
       "<Figure size 432x288 with 1 Axes>"
      ]
     },
     "metadata": {
      "needs_background": "light"
     },
     "output_type": "display_data"
    }
   ],
   "source": [
    "![ -f scd_lvsegs.npz ] || wget https://github.com/Warvito/MRAI_workshop/blob/master/scd_lvsegs.npz\n",
    "\n",
    "data = np.load('scd_lvsegs.npz')  # load all the data from the archive\n",
    "\n",
    "images = data['images']  # images in BHW array order\n",
    "segs = data['segs']  # segmentations in BHW array order\n",
    "case_indices = data['caseIndices']  # the indices in `images` for each case\n",
    "\n",
    "images = images.astype(np.float32) / images.max()  # normalize images\n",
    "\n",
    "plt.imshow(images[13] + segs[13] * 0.25, cmap='gray')  # show image 13 with segmentation"
   ]
  },
  {
   "cell_type": "code",
   "execution_count": 5,
   "metadata": {},
   "outputs": [],
   "source": [
    "images = images.reshape(images.shape[0], 64, 64, 1)\n",
    "segs = segs.reshape(segs.shape[0], 64, 64, 1)"
   ]
  },
  {
   "cell_type": "code",
   "execution_count": 6,
   "metadata": {},
   "outputs": [
    {
     "data": {
      "text/plain": [
       "(420, 64, 64, 1)"
      ]
     },
     "execution_count": 6,
     "metadata": {},
     "output_type": "execute_result"
    }
   ],
   "source": [
    "segs.shape"
   ]
  },
  {
   "cell_type": "markdown",
   "metadata": {},
   "source": [
    "## Split data into training and test\n",
    "\n",
    "For this exercise, we will divide the data between train and test data, choosing to retain the last 6 cases as our test set. Typically you would want to have a training dataset, a validation dataset checked periodically during training to ensure the network continues to produce good results for data is isn't trained on, and a test dataset used to validate the training after the fact. "
   ]
  },
  {
   "cell_type": "code",
   "execution_count": 19,
   "metadata": {},
   "outputs": [],
   "source": [
    "test_index = case_indices[-6, 0]  # keep the last 6 cases for testing\n",
    "\n",
    "# Divide the images, segmentations, and categories into train/test sets\n",
    "train_images, train_segs = images[:test_index], segs[:test_index]\n",
    "test_images, test_segs = images[test_index:], segs[test_index:]"
   ]
  },
  {
   "cell_type": "markdown",
   "metadata": {},
   "source": [
    "## Define loss function\n",
    "\n",
    "As loss function, for this exercise we will use the Dice loss, which measure the overlap between the ground truth segmentation and the predicted segmentation."
   ]
  },
  {
   "cell_type": "code",
   "execution_count": 20,
   "metadata": {},
   "outputs": [],
   "source": [
    "def dice_coef(y_true, y_pred, smooth=1):\n",
    "    \"\"\" Function to calculate the dice loss with the definition given in [1] using a square in the denominator.\n",
    "\n",
    "    Dice = (2*|X & Y|)/ (|X|+ |Y|)\n",
    "         =  2*sum(|A*B|)/(sum(A^2)+sum(B^2))\n",
    "         \n",
    "    References:\n",
    "    [1] Milletari, F., Navab, N., & Ahmadi, S. A. (2016). V-net: Fully convolutional neural networks for volumetric\n",
    "    medical image segmentation. 3DV 2016. https://arxiv.org/pdf/1606.04797v1.pdf\n",
    "    \"\"\"\n",
    "    y_true_f = tf.reshape(y_true, [-1])\n",
    "    y_pred_f = tf.reshape(y_pred, [-1])\n",
    "    intersection = y_true * tf.transpose(y_pred)\n",
    "    union = y_true * tf.transpose(y_true) + y_pred * tf.transpose(y_pred)\n",
    "    return (2. * intersection + smooth) / (union + smooth)\n",
    "\n",
    "\n",
    "def dice_coef_loss(y_true, y_pred):\n",
    "    return tf.reduce_mean(1 - dice_coef(y_true, y_pred), axis=-1)"
   ]
  },
  {
   "cell_type": "markdown",
   "metadata": {},
   "source": [
    "## Define segmentation network\n",
    "\n",
    "As neural network, we used a simple auto-encoder, which has a downsampling path with four layers using strided convolutions to reduce dimensions. After the bottom layer the decoding path upsamples using strided transpose convolutions.\n",
    "\n",
    "However, the current network architecture is doing poorly. Modify the current network to improve the segmentation accuracy. Some of the possible solutions are:\n",
    "\n",
    "- Add layers\n",
    "- Add more filters\n",
    "- Add dropout layers\n",
    "- Change activation function"
   ]
  },
  {
   "cell_type": "code",
   "execution_count": 21,
   "metadata": {},
   "outputs": [],
   "source": [
    "# Segmentation network\n",
    "inputs = keras.Input(shape=(64, 64, 1), name='SegNet')\n",
    "\n",
    "x = keras.layers.Conv2D(filters=32, kernel_size=3, padding='same', activation='linear', use_bias='False')(inputs)\n",
    "x = keras.layers.BatchNormalization()(x)\n",
    "x = keras.layers.Activation(activation='relu')(x)\n",
    "x = keras.layers.MaxPooling2D()(x)\n",
    "\n",
    "x = keras.layers.Conv2D(filters=32, kernel_size=3, padding='same', activation='linear', use_bias='False')(x)\n",
    "x = keras.layers.BatchNormalization()(x)\n",
    "x = keras.layers.UpSampling2D((2, 2))(x)\n",
    "x = keras.layers.Activation(activation='relu')(x)\n",
    "\n",
    "outputs = keras.layers.Conv2D(filters=1, kernel_size=3, padding='same', activation='sigmoid')(x)\n",
    "\n",
    "model = keras.Model(inputs=inputs, outputs=outputs)\n"
   ]
  },
  {
   "cell_type": "code",
   "execution_count": 17,
   "metadata": {},
   "outputs": [
    {
     "name": "stdout",
     "output_type": "stream",
     "text": [
      "Model: \"model_2\"\n",
      "_________________________________________________________________\n",
      "Layer (type)                 Output Shape              Param #   \n",
      "=================================================================\n",
      "img (InputLayer)             [(None, 64, 64, 1)]       0         \n",
      "_________________________________________________________________\n",
      "conv2d_7 (Conv2D)            (None, 64, 64, 32)        320       \n",
      "_________________________________________________________________\n",
      "batch_normalization_4 (Batch (None, 64, 64, 32)        128       \n",
      "_________________________________________________________________\n",
      "activation_4 (Activation)    (None, 64, 64, 32)        0         \n",
      "_________________________________________________________________\n",
      "max_pooling2d_2 (MaxPooling2 (None, 32, 32, 32)        0         \n",
      "_________________________________________________________________\n",
      "conv2d_8 (Conv2D)            (None, 32, 32, 32)        9248      \n",
      "_________________________________________________________________\n",
      "batch_normalization_5 (Batch (None, 32, 32, 32)        128       \n",
      "_________________________________________________________________\n",
      "up_sampling2d_2 (UpSampling2 (None, 64, 64, 32)        0         \n",
      "_________________________________________________________________\n",
      "activation_5 (Activation)    (None, 64, 64, 32)        0         \n",
      "_________________________________________________________________\n",
      "conv2d_9 (Conv2D)            (None, 64, 64, 1)         289       \n",
      "=================================================================\n",
      "Total params: 10,113\n",
      "Trainable params: 9,985\n",
      "Non-trainable params: 128\n",
      "_________________________________________________________________\n"
     ]
    }
   ],
   "source": [
    "model.summary()"
   ]
  },
  {
   "cell_type": "markdown",
   "metadata": {},
   "source": [
    "## Train network\n",
    "\n",
    "Once we have defined the network, we need to train it. An strategy is to load the whole dataset into memory at once, but typically this isn't possible due to memory restrictions. A different strategy is to create batches for each train step, which means that in each iteration only few image (batch) would be used for training."
   ]
  },
  {
   "cell_type": "code",
   "execution_count": 22,
   "metadata": {},
   "outputs": [
    {
     "name": "stdout",
     "output_type": "stream",
     "text": [
      "Train on 368 samples\n",
      "Epoch 1/20\n",
      "368/368 [==============================] - 16s 42ms/sample - loss: 0.1346\n",
      "Epoch 2/20\n",
      "368/368 [==============================] - 9s 24ms/sample - loss: 0.0978\n",
      "Epoch 3/20\n",
      "368/368 [==============================] - 9s 25ms/sample - loss: 0.0781\n",
      "Epoch 4/20\n",
      "368/368 [==============================] - 9s 25ms/sample - loss: 0.0641\n",
      "Epoch 5/20\n",
      "368/368 [==============================] - 9s 24ms/sample - loss: 0.0518\n",
      "Epoch 6/20\n",
      "368/368 [==============================] - 9s 25ms/sample - loss: 0.0416\n",
      "Epoch 7/20\n",
      "368/368 [==============================] - 9s 25ms/sample - loss: 0.0334\n",
      "Epoch 8/20\n",
      "368/368 [==============================] - 9s 25ms/sample - loss: 0.0265\n",
      "Epoch 9/20\n",
      "368/368 [==============================] - 9s 25ms/sample - loss: 0.0210\n",
      "Epoch 10/20\n",
      "368/368 [==============================] - 9s 26ms/sample - loss: 0.0168\n",
      "Epoch 11/20\n",
      "368/368 [==============================] - 9s 25ms/sample - loss: 0.0137\n",
      "Epoch 12/20\n",
      "368/368 [==============================] - 9s 25ms/sample - loss: 0.0115\n",
      "Epoch 13/20\n",
      "368/368 [==============================] - 9s 24ms/sample - loss: 0.0099\n",
      "Epoch 14/20\n",
      "368/368 [==============================] - 10s 26ms/sample - loss: 0.0086\n",
      "Epoch 15/20\n",
      "368/368 [==============================] - 10s 28ms/sample - loss: 0.0077\n",
      "Epoch 16/20\n",
      "368/368 [==============================] - 9s 25ms/sample - loss: 0.0068\n",
      "Epoch 17/20\n",
      "368/368 [==============================] - 10s 27ms/sample - loss: 0.0063\n",
      "Epoch 18/20\n",
      "368/368 [==============================] - 9s 25ms/sample - loss: 0.0058\n",
      "Epoch 19/20\n",
      "368/368 [==============================] - 9s 25ms/sample - loss: 0.0054\n",
      "Epoch 20/20\n",
      "368/368 [==============================] - 9s 25ms/sample - loss: 0.0050\n",
      "CPU times: user 6min 36s, sys: 58.5 s, total: 7min 34s\n",
      "Wall time: 3min 13s\n"
     ]
    }
   ],
   "source": [
    "%%time\n",
    "optimizer = keras.optimizers.Adam(lr=3e-4)\n",
    "model.compile(loss=dice_coef_loss,\n",
    "              optimizer=optimizer)\n",
    "\n",
    "n_epochs = 20\n",
    "history = model.fit(train_images, train_segs,\n",
    "                    batch_size=64,\n",
    "                    epochs=n_epochs)"
   ]
  },
  {
   "cell_type": "code",
   "execution_count": 23,
   "metadata": {},
   "outputs": [],
   "source": [
    "sample=(train_images[10])[np.newaxis,:]\n",
    "pred_sample=model.predict(sample)"
   ]
  },
  {
   "cell_type": "code",
   "execution_count": 25,
   "metadata": {},
   "outputs": [
    {
     "data": {
      "text/plain": [
       "0.40657175"
      ]
     },
     "execution_count": 25,
     "metadata": {},
     "output_type": "execute_result"
    }
   ],
   "source": [
    "pred_sample.max()"
   ]
  },
  {
   "cell_type": "code",
   "execution_count": 24,
   "metadata": {},
   "outputs": [
    {
     "data": {
      "text/plain": [
       "<matplotlib.image.AxesImage at 0x7fb3993254e0>"
      ]
     },
     "execution_count": 24,
     "metadata": {},
     "output_type": "execute_result"
    },
    {
     "data": {
      "image/png": "[encoded data removed]",
      "text/plain": [
       "<Figure size 1440x360 with 5 Axes>"
      ]
     },
     "metadata": {
      "needs_background": "light"
     },
     "output_type": "display_data"
    }
   ],
   "source": [
    "# Sample an image from the training data and look at the segmentation the network predicted for it\n",
    "fig,ax=plt.subplots(1,5,figsize=(20,5))\n",
    "ax[0].set_title('Loss')\n",
    "ax[0].semilogy(history.history['loss'])\n",
    "ax[1].set_title('Sample Image')\n",
    "ax[1].imshow(train_images[10,:,:,0])\n",
    "ax[2].set_title('Sample Ground Truth')\n",
    "ax[2].imshow(train_segs[10,:,:,0])\n",
    "ax[3].set_title('Sample Logits')\n",
    "ax[3].imshow(pred_sample[0,:,:,0])\n",
    "ax[4].set_title('Sample Predicted Segmentation')\n",
    "ax[4].imshow(pred_sample[0,:,:,0]>0.5)"
   ]
  },
  {
   "cell_type": "markdown",
   "metadata": {},
   "source": [
    "## Test\n",
    "Once the network is been train, we can now apply the test data to the network. These images were never seen by the network so how well the task is performed is an indicator of how generalized and robust the network is:"
   ]
  },
  {
   "cell_type": "code",
   "execution_count": 16,
   "metadata": {},
   "outputs": [
    {
     "name": "stdout",
     "output_type": "stream",
     "text": [
      "\r",
      "52/52 [==============================] - 0s 6ms/sample - loss: 0.0473\n"
     ]
    },
    {
     "data": {
      "text/plain": [
       "0.047270480543375015"
      ]
     },
     "execution_count": 16,
     "metadata": {},
     "output_type": "execute_result"
    }
   ],
   "source": [
    "model.evaluate(test_images, test_segs,\n",
    "                    batch_size=64)"
   ]
  },
  {
   "cell_type": "code",
   "execution_count": 17,
   "metadata": {},
   "outputs": [
    {
     "name": "stdout",
     "output_type": "stream",
     "text": [
      "52/52 [==============================] - 0s 5ms/sample - loss: 0.0473\n",
      "Test loss: 0.047270480543375015\n"
     ]
    },
    {
     "data": {
      "image/png": "[encoded data removed]",
      "text/plain": [
       "<Figure size 1440x360 with 4 Axes>"
      ]
     },
     "metadata": {
      "needs_background": "light"
     },
     "output_type": "display_data"
    }
   ],
   "source": [
    "testloss = model.evaluate(test_images, test_segs,\n",
    "                    batch_size=64)\n",
    "pred=model.predict(test_images)\n",
    "\n",
    "seg=pred>0.5\n",
    "\n",
    "fig,ax=plt.subplots(1,4,figsize=(20,5))\n",
    "ax[0].imshow(test_images[10,:,:,0])\n",
    "ax[1].imshow(test_segs[10,:,:,0])\n",
    "ax[2].imshow(pred[10,:,:,0])\n",
    "ax[3].imshow(seg[10,:,:,0])\n",
    "\n",
    "print('Test loss:',testloss)"
   ]
  },
  {
   "cell_type": "markdown",
   "metadata": {},
   "source": [
    "# 2. Classification using clinical metrics \n",
    "\n",
    "In this part of the workshop, we aim to use the segmentations produced from the previous segmentation network to compute the following clinical metrics LVEDV, LVESV, LVSV and LVEF to classify the between healthy and heart failure subjects."
   ]
  },
  {
   "cell_type": "markdown",
   "metadata": {},
   "source": [
    "## DNN network\n",
    "\n",
    "For classification, we will use a deep neural network classifier (DNN) with two layers with sizes 20 and 10. To evaluate the performances of the classifier we will compute accuracy, precision and recall."
   ]
  },
  {
   "cell_type": "code",
   "execution_count": 15,
   "metadata": {},
   "outputs": [
    {
     "ename": "NameError",
     "evalue": "name 'torch' is not defined",
     "output_type": "error",
     "traceback": [
      "\u001b[0;31m---------------------------------------------------------------------------\u001b[0m",
      "\u001b[0;31mNameError\u001b[0m                                 Traceback (most recent call last)",
      "\u001b[0;32m<ipython-input-15-5b66597165fc>\u001b[0m in \u001b[0;36m<module>\u001b[0;34m\u001b[0m\n\u001b[1;32m     34\u001b[0m \u001b[0;34m\u001b[0m\u001b[0m\n\u001b[1;32m     35\u001b[0m \u001b[0;31m# Create a DNN network for classification with two layers with sizes 20 and 10.\u001b[0m\u001b[0;34m\u001b[0m\u001b[0;34m\u001b[0m\u001b[0m\n\u001b[0;32m---> 36\u001b[0;31m \u001b[0;32mclass\u001b[0m \u001b[0mDNN\u001b[0m\u001b[0;34m(\u001b[0m\u001b[0mtorch\u001b[0m\u001b[0;34m.\u001b[0m\u001b[0mnn\u001b[0m\u001b[0;34m.\u001b[0m\u001b[0mModule\u001b[0m\u001b[0;34m)\u001b[0m\u001b[0;34m:\u001b[0m\u001b[0;34m\u001b[0m\u001b[0m\n\u001b[0m\u001b[1;32m     37\u001b[0m     '''Plain dense neural network of linear layers using dropout and ReLU activation.\n\u001b[1;32m     38\u001b[0m     \u001b[0mSize\u001b[0m \u001b[0mof\u001b[0m \u001b[0mthe\u001b[0m \u001b[0mhidden\u001b[0m \u001b[0mlayers\u001b[0m\u001b[0;34m:\u001b[0m \u001b[0;34m[\u001b[0m\u001b[0;36m20\u001b[0m\u001b[0;34m,\u001b[0m\u001b[0;36m10\u001b[0m\u001b[0;34m]\u001b[0m\u001b[0;34m\u001b[0m\u001b[0m\n",
      "\u001b[0;31mNameError\u001b[0m: name 'torch' is not defined"
     ]
    }
   ],
   "source": [
    "def compute_metrics(y_true, yPred, target_names):\n",
    "    \"\"\" Compute metrics\n",
    "    Parameters\n",
    "    ----------\n",
    "    yPred: labels predicted using DNN\n",
    "    y_true: ground truth labels\n",
    "    target_names:  names matching the labels\n",
    "    \"\"\"\n",
    "\n",
    "    BACC = balanced_accuracy_score(y_true, yPred)\n",
    "    PRE = precision_score(y_true, yPred, average=None)\n",
    "    REC = recall_score(y_true, yPred, average=None)\n",
    "    print('Balanced accuracy  {0:.2f}'.format(BACC))\n",
    "\n",
    "    headers = [\"precision\", \"recall\"]\n",
    "\n",
    "    rows = zip(target_names, PRE, REC)\n",
    "\n",
    "    digits = 2\n",
    "    longest_last_line_heading = 'weighted avg'\n",
    "    name_width = max(len(cn) for cn in target_names)\n",
    "    width = max(name_width, len(longest_last_line_heading), digits)\n",
    "    head_fmt = u'{:>{width}s} ' + u' {:>9}' * len(headers)\n",
    "    report = head_fmt.format(u'', *headers, width=width)\n",
    "    report += u'\\n\\n'\n",
    "    row_fmt = u'{:>{width}s} ' + u' {:>9.{digits}f}' + u' {:>9}\\n'\n",
    "    for row in rows:\n",
    "        report += row_fmt.format(*row, width=width, digits=digits)\n",
    "    report += u'\\n'\n",
    "\n",
    "    print(report)\n",
    "\n",
    "    return BACC * 100, PRE * 100, REC * 100\n",
    "  \n",
    "# Create a DNN network for classification with two layers with sizes 20 and 10. \n",
    "class DNN(torch.nn.Module):\n",
    "    '''Plain dense neural network of linear layers using dropout and ReLU activation.\n",
    "    Size of the hidden layers: [20,10]\n",
    "    numClasses: number of classes used for the classification'''\n",
    "    def __init__(self, numClasses):\n",
    "        super().__init__()\n",
    "        dropout_value = 0.05\n",
    "        ################\n",
    "        # TO COMPLETE\n",
    "        ################\n",
    "    def forward(self, x):\n",
    "        ################\n",
    "        # TO COMPLETE\n",
    "        ################\n",
    "        return \n"
   ]
  },
  {
   "cell_type": "markdown",
   "metadata": {},
   "source": [
    "## Download the data\n",
    "To ensure that everyone work with the same data, download the following file that contains the images segmented with the previous network optimised."
   ]
  },
  {
   "cell_type": "code",
   "execution_count": null,
   "metadata": {},
   "outputs": [],
   "source": [
    "![ -f data.npz ] || wget https://github.com/estherpuyol/MRAI_workshop/raw/master/data.npz\n",
    "data_file_name = 'data.npz'"
   ]
  },
  {
   "cell_type": "markdown",
   "metadata": {},
   "source": [
    "## Compute clinical metricas and save them in a matrix called metrics\n",
    "- LVEDV (maximum volume of the cardiac cycle)\n",
    "- LVESV (minimum volume of the cardiac cycle)\n",
    "- LVSV = LVEDV - LVESV \n",
    "- LVEF = LVSV/LVEDV*100 \n",
    "\n",
    "Then:\n",
    "- Generate a matrix ```metrics``` that concatenate LVEDV, LVESV, LVSV and LVEF"
   ]
  },
  {
   "cell_type": "code",
   "execution_count": null,
   "metadata": {},
   "outputs": [],
   "source": [
    "# Load data\n",
    "data = np.load(data_file_name)\n",
    "\n",
    "# Save fields inside data\n",
    "images = data['images']  # (805, 128, 128)\n",
    "segs = data['segs']  # (805, 128, 128)\n",
    "caseNames = data['caseNames']  # 45\n",
    "caseIndices = data['caseIndices']  # 45\n",
    "caseTypeNames = ['Normal', 'Heart Failure']\n",
    "caseTypes = data['caseTypes']  # 45\n",
    "caseTypes[caseTypes == 2] = 0\n",
    "caseVoxelSize = data['caseVoxelSize']\n",
    "isEDImg = data['isEDImg']  # 805\n",
    "segTypes = data['segTypes']  # ['Background', 'LV Pool']\n",
    "\n",
    "\n",
    "# Compute LVEDV, LVESV, LVSV and LVEF\n",
    "metrics = np.zeros((len(caseNames), 4))\n",
    "for ii, ind in enumerate(caseIndices):\n",
    "    indED_pat = isEDImg[ind[0]:ind[1]]\n",
    "    img_pat = images[ind[0]:ind[1], :, :]\n",
    "    seg_pat = segs[ind[0]:ind[1], :, :]\n",
    "    img_ED = img_pat[indED_pat, :, :]\n",
    "    img_ES = img_pat[~indED_pat, :, :]\n",
    "    seg_ED = seg_pat[indED_pat, :, :]\n",
    "    seg_ES = seg_pat[~indED_pat, :, :]\n",
    "    dx, dy, dz = caseVoxelSize[ii]\n",
    "    volume_per_voxel = dx * dy * dz * 1e-3\n",
    "    density = 1.05\n",
    "\n",
    "    metrics[ii, 0] = np.sum(np.sum(seg_ED == 1, axis=1)) * volume_per_voxel\n",
    "    metrics[ii, 1] = np.sum(np.sum(seg_ES == 1, axis=1)) * volume_per_voxel\n",
    "    metrics[ii, 2] = metrics[ii, 0] - metrics[ii, 1]\n",
    "    metrics[ii, 3] = metrics[ii, 2] / metrics[ii, 0] * 100"
   ]
  },
  {
   "cell_type": "markdown",
   "metadata": {},
   "source": [
    "## Visualize the data\n",
    "\n",
    "Plot LVEDV, LVESV, LVSV and LVEF per groups, i.e. LVEDV and LVESV, LVSV and LVEF"
   ]
  },
  {
   "cell_type": "code",
   "execution_count": null,
   "metadata": {},
   "outputs": [],
   "source": [
    "def PlotTwoClassData(X, y, title, _caseTypeNames):\n",
    "    plt.scatter(X[y == 0, 0], X[y == 0, 1], c='r', label=_caseTypeNames[0])\n",
    "    plt.scatter(X[y == 1, 0], X[y == 1, 1], c='b', label=_caseTypeNames[1])\n",
    "    plt.legend()\n",
    "    plt.title(title)\n",
    "    \n",
    "\n",
    "plt.figure(figsize = [14,5])\n",
    "plt.subplot(121)\n",
    "PlotTwoClassData(metrics[:,0:2], caseTypes, 'Healthy vs Heart Failure', caseTypeNames)\n",
    "plt.xlabel('LVEDV')\n",
    "plt.ylabel('LVESV')\n",
    "plt.subplot(122)\n",
    "PlotTwoClassData(metrics[:,2:], caseTypes, 'Healthy vs Heart Failure', caseTypeNames)\n",
    "plt.xlabel('LVSV')\n",
    "plt.ylabel('LVEF')\n"
   ]
  },
  {
   "cell_type": "markdown",
   "metadata": {},
   "source": [
    "## Split data into training and test\n",
    "\n",
    "Data is unbalanced (there is no the same number of patients per group). We need to ensure that in the split training/test there is balanced number of classed. To this end use StratifiedShuffleSplit from scikit-learn that will automatically ensure that.\n",
    "https://scikit-learn.org/stable/modules/generated/sklearn.model_selection.StratifiedShuffleSplit.html"
   ]
  },
  {
   "cell_type": "code",
   "execution_count": null,
   "metadata": {},
   "outputs": [],
   "source": [
    "sss = StratifiedShuffleSplit(n_splits=1, test_size=0.2, random_state=0)\n",
    "for train_index, test_index in sss.split(metrics, caseTypes):\n",
    "    X_train, X_test = metrics[train_index, :], metrics[test_index, :]\n",
    "    y_train, y_test = caseTypes[train_index], caseTypes[test_index]"
   ]
  },
  {
   "cell_type": "markdown",
   "metadata": {},
   "source": [
    "## Train a DNN network to perform classification\n"
   ]
  },
  {
   "cell_type": "code",
   "execution_count": null,
   "metadata": {},
   "outputs": [],
   "source": [
    "################\n",
    "# TO COMPLETE\n",
    "################\n",
    "\n",
    "#1. Instance the DNN network\n",
    "nb_iters = ...\n",
    "output_size = ...\n",
    "net = DNN(output_size)\n",
    "\n",
    "xt = torch.from_numpy(...).type(torch.FloatTensor)\n",
    "yt = torch.from_numpy(...).type(torch.LongTensor)\n",
    "\n",
    "# Select the loss fuction for classification\n",
    "# Docs: https://pytorch.org/docs/stable/nn.html\n",
    "loss_func = ... \n",
    "\n",
    "# Select the Optimizer with lr = 0.0001\n",
    "# Docs: https://pytorch.org/docs/stable/optim.html\n",
    "opt = ...\n",
    "\n",
    "losses = []\n",
    "\n",
    "for i in range(1, nb_iters + 1):\n",
    "\n",
    "    out = net(xt)  # input x and predict based on x\n",
    "    loss = loss_func(out, yt)   \n",
    "\n",
    "    # clear gradients for next train\n",
    "    ...\n",
    "    # backpropagation, compute gradients\n",
    "    ...\n",
    "    # apply gradients\n",
    "    ...\n",
    "    # Stor the loss over iteration \n",
    "    ...\n",
    "\n",
    "    if i % (nb_iters // 10) == 0:\n",
    "        print(i, losses[-1])\n",
    "\n",
    "# Plot total loss over iterations\n",
    "...\n"
   ]
  },
  {
   "cell_type": "markdown",
   "metadata": {},
   "source": [
    "# Deploy network and compute metrics\n",
    "\n",
    "First deploy the trained netowrk and then compute the following metrics: balanced accuracy, precision, recall\n"
   ]
  },
  {
   "cell_type": "code",
   "execution_count": null,
   "metadata": {},
   "outputs": [],
   "source": [
    "################\n",
    "# TO COMPLETE\n",
    "################\n",
    "with torch.no_grad():\n",
    "    net.eval()\n",
    "    out = torch.from_numpy(...).float()\n",
    "    # Deploy DNN for the test dataset and compute the predicted label\n",
    "    out = ... \n",
    "    # Convert to numpy array\n",
    "    out = ... \n",
    "    # Select the highest probability for each input \n",
    "    y_pred = np.argmax(out, axis = 1)\n",
    "    # Compute metrics\n",
    "    ..."
   ]
  }
 ],
 "metadata": {
  "kernelspec": {
   "display_name": "Python 3",
   "language": "python",
   "name": "python3"
  },
  "language_info": {
   "codemirror_mode": {
    "name": "ipython",
    "version": 3
   },
   "file_extension": ".py",
   "mimetype": "text/x-python",
   "name": "python",
   "nbconvert_exporter": "python",
   "pygments_lexer": "ipython3",
   "version": "3.5.2"
  }
 },
 "nbformat": 4,
 "nbformat_minor": 2
}
