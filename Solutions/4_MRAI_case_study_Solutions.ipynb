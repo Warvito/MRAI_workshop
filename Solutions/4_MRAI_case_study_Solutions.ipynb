{
 "cells": [
  {
   "cell_type": "markdown",
   "metadata": {
    "colab_type": "text",
    "id": "k1DI8S-gyrkH"
   },
   "source": [
    "# Case Study"
   ]
  },
  {
   "cell_type": "markdown",
   "metadata": {
    "colab_type": "text",
    "id": "4aqB2fKfyrkO"
   },
   "source": [
    "## Background\n",
    "\n",
    "Heart disease is the leading cause of death globally. __Heart failure__ (HF) is the primary cause of heart diseases, and that refers to a physiological state in which the heart is unable to pump sufficiently to maintain blood flow to meet the body's need. It usually occurs because the heart has become too weak or stiff. \n",
    "\n",
    "HF is routinely diagnosed by:\n",
    "* __Electrocardiogram (ECG)__, which measure heart's rhythm and electrical activity. From the ECG the QRS duration can be computed. An increased QRS duration, indicate dyssynchronous contraction and relaxation of the left and right ventricles and it is a marker of detection of HF subjects.\n",
    "* __MRI__ or __US imaging__, which provides structural and functional information of the heart. Evaluation of the structure and the function of the ventricles can provide useful information for diagnosis and characterization of disease. \n",
    " \t \t\n",
    "Based on the result of these tests, doctors use NYHA class to classify patients' heart failure according to the severity of their symptoms:\n",
    "\n",
    "__Class I__: no limitation is experienced in any activities; there are no symptoms from ordinary activities.\n",
    "\n",
    "__Class II__: slight, mild limitation of activity; the patient is comfortable at rest or with mild exertion.\n",
    "\n",
    "__Class III__: marked limitation of any activity; the patient is comfortable only at rest.\n",
    "\n",
    "__Class IV__: any physical activity brings on discomfort and symptoms occur at rest.\n",
    "\n",
    "### Current diagnostic technique\n",
    "\n",
    "Currently, the parameters used in clinics to identify cardiac patients are:\n",
    "* __LVEDV__ which is the maximum amount of blood that heart can pump\n",
    "* __LVESV__ which is the minium amount of blood that heart can pump\n",
    "* __LVSV__ which is the amount of blood pumped by the left ventricle of the heart in one contraction. \n",
    "* __Ejection fraction (LVEF)__, which computes the amount of blood of the left ventricle (LV) pumps out with each contraction. A normal heart’s ejection fraction may be between 50 and 70 percent.\n"
   ]
  },
  {
   "cell_type": "markdown",
   "metadata": {
    "colab_type": "text",
    "id": "JGHG5FPMyrkT"
   },
   "source": [
    "## Objective\n",
    "\n",
    "The objective of this workshop is twofold:\n",
    "\n",
    "1. Improve the quality of a pre-trained segmentation neural network to segment the left ventricle (LV) of the heart\n",
    "2. Train a simple deep neural network (DNN) to classify between healthy and heart failure subjects using clinical metrics, i.e. LVEDV, LVESV, LVSV and LVEF\n"
   ]
  },
  {
   "cell_type": "markdown",
   "metadata": {
    "colab_type": "text",
    "id": "ZF2MQczzyrkY"
   },
   "source": [
    "# 1. Image segmentaion\n",
    "\n",
    "\n",
    "In this exercise we will segment the left ventricle of the heart in relatively small images using neural networks. Below is the code for setting up a segmentation network and training it. The network isn't very good, so the exercise is to improve the quality of the segmentation by improving the network. \n",
    "\n",
    "The data being used here is derived from the Sunnybrook Dataset (https://www.cardiacatlas.org/studies/sunnybrook-cardiac-data/) of cardiac images, filtered to contain only left ventricle myocardium segmentations and reduced in XY dimensions.\n",
    "\n",
    "Tensorflow 2.0 documentation can be found here: https://www.tensorflow.org/beta/\n"
   ]
  },
  {
   "cell_type": "markdown",
   "metadata": {
    "colab_type": "text",
    "id": "XtMW1XWvyrkg"
   },
   "source": [
    "## Dependencies"
   ]
  },
  {
   "cell_type": "code",
   "execution_count": 73,
   "metadata": {
    "colab": {
     "base_uri": "https://localhost:8080/",
     "height": 384
    },
    "colab_type": "code",
    "id": "ZyV-43lRyrkk",
    "outputId": "ab2f4320-faef-47c6-f795-b34910816e79"
   },
   "outputs": [
    {
     "name": "stdout",
     "output_type": "stream",
     "text": [
      "Requirement already satisfied: tensorflow-gpu==2.0.0-beta1 in /usr/local/lib/python3.6/dist-packages (2.0.0b1)\n",
      "Requirement already satisfied: tf-estimator-nightly<1.14.0.dev2019060502,>=1.14.0.dev2019060501 in /usr/local/lib/python3.6/dist-packages (from tensorflow-gpu==2.0.0-beta1) (1.14.0.dev2019060501)\n",
      "Requirement already satisfied: gast>=0.2.0 in /usr/local/lib/python3.6/dist-packages (from tensorflow-gpu==2.0.0-beta1) (0.2.2)\n",
      "Requirement already satisfied: keras-preprocessing>=1.0.5 in /usr/local/lib/python3.6/dist-packages (from tensorflow-gpu==2.0.0-beta1) (1.1.0)\n",
      "Requirement already satisfied: numpy<2.0,>=1.14.5 in /usr/local/lib/python3.6/dist-packages (from tensorflow-gpu==2.0.0-beta1) (1.16.4)\n",
      "Requirement already satisfied: termcolor>=1.1.0 in /usr/local/lib/python3.6/dist-packages (from tensorflow-gpu==2.0.0-beta1) (1.1.0)\n",
      "Requirement already satisfied: six>=1.10.0 in /usr/local/lib/python3.6/dist-packages (from tensorflow-gpu==2.0.0-beta1) (1.12.0)\n",
      "Requirement already satisfied: google-pasta>=0.1.6 in /usr/local/lib/python3.6/dist-packages (from tensorflow-gpu==2.0.0-beta1) (0.1.7)\n",
      "Requirement already satisfied: keras-applications>=1.0.6 in /usr/local/lib/python3.6/dist-packages (from tensorflow-gpu==2.0.0-beta1) (1.0.8)\n",
      "Requirement already satisfied: wheel>=0.26 in /usr/local/lib/python3.6/dist-packages (from tensorflow-gpu==2.0.0-beta1) (0.33.4)\n",
      "Requirement already satisfied: astor>=0.6.0 in /usr/local/lib/python3.6/dist-packages (from tensorflow-gpu==2.0.0-beta1) (0.8.0)\n",
      "Requirement already satisfied: absl-py>=0.7.0 in /usr/local/lib/python3.6/dist-packages (from tensorflow-gpu==2.0.0-beta1) (0.7.1)\n",
      "Requirement already satisfied: grpcio>=1.8.6 in /usr/local/lib/python3.6/dist-packages (from tensorflow-gpu==2.0.0-beta1) (1.15.0)\n",
      "Requirement already satisfied: tb-nightly<1.14.0a20190604,>=1.14.0a20190603 in /usr/local/lib/python3.6/dist-packages (from tensorflow-gpu==2.0.0-beta1) (1.14.0a20190603)\n",
      "Requirement already satisfied: wrapt>=1.11.1 in /usr/local/lib/python3.6/dist-packages (from tensorflow-gpu==2.0.0-beta1) (1.11.2)\n",
      "Requirement already satisfied: protobuf>=3.6.1 in /usr/local/lib/python3.6/dist-packages (from tensorflow-gpu==2.0.0-beta1) (3.7.1)\n",
      "Requirement already satisfied: h5py in /usr/local/lib/python3.6/dist-packages (from keras-applications>=1.0.6->tensorflow-gpu==2.0.0-beta1) (2.8.0)\n",
      "Requirement already satisfied: setuptools>=41.0.0 in /usr/local/lib/python3.6/dist-packages (from tb-nightly<1.14.0a20190604,>=1.14.0a20190603->tensorflow-gpu==2.0.0-beta1) (41.0.1)\n",
      "Requirement already satisfied: werkzeug>=0.11.15 in /usr/local/lib/python3.6/dist-packages (from tb-nightly<1.14.0a20190604,>=1.14.0a20190603->tensorflow-gpu==2.0.0-beta1) (0.15.5)\n",
      "Requirement already satisfied: markdown>=2.6.8 in /usr/local/lib/python3.6/dist-packages (from tb-nightly<1.14.0a20190604,>=1.14.0a20190603->tensorflow-gpu==2.0.0-beta1) (3.1.1)\n"
     ]
    }
   ],
   "source": [
    "! pip install tensorflow-gpu==2.0.0-beta1"
   ]
  },
  {
   "cell_type": "markdown",
   "metadata": {
    "colab_type": "text",
    "id": "MlMaVz19yrku"
   },
   "source": [
    "## Imports"
   ]
  },
  {
   "cell_type": "code",
   "execution_count": 0,
   "metadata": {
    "colab": {},
    "colab_type": "code",
    "id": "xUlYucaNyrkz"
   },
   "outputs": [],
   "source": [
    "%matplotlib inline\n",
    "\n",
    "import os\n",
    "import numpy as np\n",
    "import pylab as plt\n",
    "import tensorflow as tf\n",
    "from tensorflow import keras\n",
    "from sklearn.metrics import balanced_accuracy_score\n",
    "from sklearn.metrics import precision_score, recall_score\n",
    "from sklearn.model_selection import StratifiedShuffleSplit\n"
   ]
  },
  {
   "cell_type": "markdown",
   "metadata": {
    "colab_type": "text",
    "id": "LtGrtqUxyrk-"
   },
   "source": [
    "## Download dataset\n"
   ]
  },
  {
   "cell_type": "code",
   "execution_count": 76,
   "metadata": {
    "colab": {
     "base_uri": "https://localhost:8080/",
     "height": 321
    },
    "colab_type": "code",
    "id": "srFY7M_zyrlC",
    "outputId": "23e5fb2d-e992-40d3-9da5-5622262907d8"
   },
   "outputs": [
    {
     "name": "stdout",
     "output_type": "stream",
     "text": [
      "Images shape: (420, 64, 64)\n",
      "Segmentation masks shape: (420, 64, 64)\n"
     ]
    },
    {
     "data": {
      "text/plain": [
       "<matplotlib.image.AxesImage at 0x7f44344939b0>"
      ]
     },
     "execution_count": 76,
     "metadata": {
      "tags": []
     },
     "output_type": "execute_result"
    },
    {
     "data": {
      "image/png": "[encoded data removed]",
      "text/plain": [
       "<Figure size 432x288 with 1 Axes>"
      ]
     },
     "metadata": {
      "tags": []
     },
     "output_type": "display_data"
    }
   ],
   "source": [
    "![ -f scd_lvsegs.npz ] ||  wget https://github.com/Warvito/MRAI_workshop_tensorflow/raw/master/scd_lvsegs.npz\n",
    "\n",
    "data = np.load('scd_lvsegs.npz')  # load all the data from the archive\n",
    "\n",
    "images = data['images']  # images in BHW array order\n",
    "segs = data['segs']  # segmentations in BHW array order\n",
    "\n",
    "images = images.astype(np.float32) / images.max()  # normalize images\n",
    "segs = segs.astype(np.float32)\n",
    "\n",
    "print('Images shape: ' + str(images.shape))\n",
    "print('Segmentation masks shape: ' + str(segs.shape))\n",
    "\n",
    "plt.imshow(images[13] + segs[13] * 0.25, cmap='gray')  # show image 13 with segmentation"
   ]
  },
  {
   "cell_type": "code",
   "execution_count": 0,
   "metadata": {
    "colab": {},
    "colab_type": "code",
    "id": "4b319Hr8yrlN"
   },
   "outputs": [],
   "source": [
    "images = images.reshape(images.shape[0], 64, 64, 1)\n",
    "segs = segs.reshape(segs.shape[0], 64, 64, 1)"
   ]
  },
  {
   "cell_type": "markdown",
   "metadata": {
    "colab_type": "text",
    "id": "IAJMCppbyrlY"
   },
   "source": [
    "## Split data into training and test\n",
    "\n",
    "For this exercise, we will divide the data between train and test data, choosing to retain the last 6 cases as our test set. Typically you would want to have a training dataset, a validation dataset checked periodically during training to ensure the network continues to produce good results for data is isn't trained on, and a test dataset used to validate the training after the fact. "
   ]
  },
  {
   "cell_type": "code",
   "execution_count": 0,
   "metadata": {
    "colab": {},
    "colab_type": "code",
    "id": "EPxPOOsfyrlZ"
   },
   "outputs": [],
   "source": [
    "test_index = 6  # keep the last 6 cases for testing\n",
    "\n",
    "# Divide the images, segmentations, and categories into train/test sets\n",
    "train_images, train_segs = images[:-test_index], segs[:-test_index]\n",
    "test_images, test_segs = images[-test_index:], segs[-test_index:]"
   ]
  },
  {
   "cell_type": "markdown",
   "metadata": {
    "colab_type": "text",
    "id": "vrG9zYDtyrll"
   },
   "source": [
    "## Define loss function\n",
    "\n",
    "As loss function, for this exercise we will use the Dice loss, which measure the overlap between the ground truth segmentation and the predicted segmentation."
   ]
  },
  {
   "cell_type": "code",
   "execution_count": 0,
   "metadata": {
    "colab": {},
    "colab_type": "code",
    "id": "SymW4MFDyrln"
   },
   "outputs": [],
   "source": [
    "def dice_coef_loss(y_true, y_pred, smooth=1e-5):\n",
    "    \"\"\" Function to calculate the dice loss.\n",
    "\n",
    "    Dice = (2*|X & Y|) / (|X| + |Y|)\n",
    "    \"\"\"   \n",
    "    batch_size = tf.shape(y_true)[0]\n",
    "    y_pred = tf.sigmoid(y_pred)\n",
    "\n",
    "    y_true = tf.reshape(y_true, [batch_size, -1])\n",
    "    y_pred = tf.reshape(y_pred, [batch_size, -1])\n",
    "\n",
    "    intersection = tf.multiply(y_pred, y_true)\n",
    "    sums = y_pred + y_true\n",
    "\n",
    "    score = 2.0 * (tf.reduce_sum(intersection, axis=1) + smooth) / (tf.reduce_sum(sums, axis=1) + smooth)  \n",
    "    \n",
    "    return 1 - tf.cast(tf.reduce_sum(score), tf.float32) / tf.cast(batch_size, tf.float32) "
   ]
  },
  {
   "cell_type": "markdown",
   "metadata": {
    "colab_type": "text",
    "id": "2_hec1CEyrlw"
   },
   "source": [
    "## Define segmentation network\n",
    "\n",
    "As neural network, we used a simple autoencoder, which has a downsampling path with 2 layers using maxpooling to reduce dimensions. After the bottom layer the decoding path upsamples using upscaling layers.\n",
    "\n",
    "However, the current network architecture is doing poorly. Modify the current network to improve the segmentation accuracy. Some of the possible solutions are:\n",
    "\n",
    "- Add more filters\n",
    "- Add layers\n",
    "- Add dropout layers\n",
    "- Change activation function"
   ]
  },
  {
   "cell_type": "code",
   "execution_count": 0,
   "metadata": {
    "colab": {},
    "colab_type": "code",
    "id": "e6Va-isGyrly"
   },
   "outputs": [],
   "source": [
    "# Segmentation network\n",
    "inputs = keras.Input(shape=(64, 64, 1))\n",
    "\n",
    "x = keras.layers.Conv2D(filters=16, kernel_size=3, padding='same', activation='linear', use_bias='False')(inputs)\n",
    "x = keras.layers.BatchNormalization()(x)\n",
    "x = keras.layers.Activation(activation='relu')(x)\n",
    "x = keras.layers.MaxPooling2D(pool_size=(3, 3), strides=2, padding='same')(x)\n",
    "\n",
    "x = keras.layers.Conv2D(filters=32, kernel_size=3, padding='same', activation='linear', use_bias='False')(x)\n",
    "x = keras.layers.BatchNormalization()(x)\n",
    "x = keras.layers.Activation(activation='relu')(x)\n",
    "x = keras.layers.MaxPooling2D(pool_size=(3, 3), strides=2, padding='same')(x)\n",
    "\n",
    "x = keras.layers.Conv2D(filters=64, kernel_size=3, padding='same', activation='linear')(x)\n",
    "\n",
    "x = keras.layers.Conv2D(filters=32, kernel_size=3, padding='same', activation='linear', use_bias='False')(x)\n",
    "x = keras.layers.BatchNormalization()(x)\n",
    "x = keras.layers.Activation(activation='relu')(x)\n",
    "x = keras.layers.UpSampling2D((2, 2))(x)\n",
    "\n",
    "x = keras.layers.Conv2D(filters=16, kernel_size=3, padding='same', activation='linear', use_bias='False')(x)\n",
    "x = keras.layers.BatchNormalization()(x)\n",
    "x = keras.layers.Activation(activation='relu')(x)\n",
    "x = keras.layers.UpSampling2D((2, 2))(x)\n",
    "\n",
    "outputs = keras.layers.Conv2D(filters=1, kernel_size=3, padding='same')(x)\n",
    "\n",
    "model = keras.Model(inputs=inputs, outputs=outputs)"
   ]
  },
  {
   "cell_type": "code",
   "execution_count": 81,
   "metadata": {
    "colab": {
     "base_uri": "https://localhost:8080/",
     "height": 816
    },
    "colab_type": "code",
    "id": "PG_3kQVRyrl6",
    "outputId": "6c4b9f9a-4275-419d-bd76-3368665eec6b"
   },
   "outputs": [
    {
     "name": "stdout",
     "output_type": "stream",
     "text": [
      "Model: \"model_6\"\n",
      "_________________________________________________________________\n",
      "Layer (type)                 Output Shape              Param #   \n",
      "=================================================================\n",
      "input_7 (InputLayer)         [(None, 64, 64, 1)]       0         \n",
      "_________________________________________________________________\n",
      "conv2d_18 (Conv2D)           (None, 64, 64, 16)        160       \n",
      "_________________________________________________________________\n",
      "batch_normalization_12 (Batc (None, 64, 64, 16)        64        \n",
      "_________________________________________________________________\n",
      "activation_12 (Activation)   (None, 64, 64, 16)        0         \n",
      "_________________________________________________________________\n",
      "max_pooling2d_6 (MaxPooling2 (None, 32, 32, 16)        0         \n",
      "_________________________________________________________________\n",
      "conv2d_19 (Conv2D)           (None, 32, 32, 32)        4640      \n",
      "_________________________________________________________________\n",
      "batch_normalization_13 (Batc (None, 32, 32, 32)        128       \n",
      "_________________________________________________________________\n",
      "activation_13 (Activation)   (None, 32, 32, 32)        0         \n",
      "_________________________________________________________________\n",
      "max_pooling2d_7 (MaxPooling2 (None, 16, 16, 32)        0         \n",
      "_________________________________________________________________\n",
      "conv2d_20 (Conv2D)           (None, 16, 16, 64)        18496     \n",
      "_________________________________________________________________\n",
      "conv2d_21 (Conv2D)           (None, 16, 16, 32)        18464     \n",
      "_________________________________________________________________\n",
      "batch_normalization_14 (Batc (None, 16, 16, 32)        128       \n",
      "_________________________________________________________________\n",
      "activation_14 (Activation)   (None, 16, 16, 32)        0         \n",
      "_________________________________________________________________\n",
      "up_sampling2d_6 (UpSampling2 (None, 32, 32, 32)        0         \n",
      "_________________________________________________________________\n",
      "conv2d_22 (Conv2D)           (None, 32, 32, 16)        4624      \n",
      "_________________________________________________________________\n",
      "batch_normalization_15 (Batc (None, 32, 32, 16)        64        \n",
      "_________________________________________________________________\n",
      "activation_15 (Activation)   (None, 32, 32, 16)        0         \n",
      "_________________________________________________________________\n",
      "up_sampling2d_7 (UpSampling2 (None, 64, 64, 16)        0         \n",
      "_________________________________________________________________\n",
      "conv2d_23 (Conv2D)           (None, 64, 64, 1)         145       \n",
      "=================================================================\n",
      "Total params: 46,913\n",
      "Trainable params: 46,721\n",
      "Non-trainable params: 192\n",
      "_________________________________________________________________\n"
     ]
    }
   ],
   "source": [
    "model.summary()"
   ]
  },
  {
   "cell_type": "markdown",
   "metadata": {
    "colab_type": "text",
    "id": "7yfhb1ljyrmI"
   },
   "source": [
    "## Train network\n",
    "\n",
    "Once we have defined the network, we need to train it. An strategy is to load the whole dataset into memory at once (setting batch size bigger than training set), but typically this isn't possible due to memory restrictions. A different strategy is to create minibatches for each train step, which means that in each iteration only few image (minibatch) would be used for training.\n",
    "\n",
    "This training will take about ~10 minutes (on colab enviroment). The verbose was set to 0 (mute) to improve the training speed. Try verbose=1 or 2 to check in real time the model performance."
   ]
  },
  {
   "cell_type": "code",
   "execution_count": 0,
   "metadata": {
    "colab": {},
    "colab_type": "code",
    "id": "69y_SGDiyrmL"
   },
   "outputs": [],
   "source": [
    "optimizer = keras.optimizers.Adam(lr=0.005)\n",
    "model.compile(loss=dice_coef_loss,\n",
    "              optimizer=optimizer)"
   ]
  },
  {
   "cell_type": "code",
   "execution_count": 83,
   "metadata": {
    "colab": {
     "base_uri": "https://localhost:8080/",
     "height": 52
    },
    "colab_type": "code",
    "id": "5GPq0s-EyrmX",
    "outputId": "c88b8041-8c5f-4908-f81d-5bbf6ac6edc7"
   },
   "outputs": [
    {
     "name": "stdout",
     "output_type": "stream",
     "text": [
      "CPU times: user 3min 22s, sys: 1min 18s, total: 4min 40s\n",
      "Wall time: 6min 53s\n"
     ]
    }
   ],
   "source": [
    "%%time\n",
    "n_epochs = 3000\n",
    "history = model.fit(train_images, train_segs,\n",
    "                    batch_size=512,\n",
    "                    epochs=n_epochs,\n",
    "                    verbose=0)"
   ]
  },
  {
   "cell_type": "code",
   "execution_count": 0,
   "metadata": {
    "colab": {},
    "colab_type": "code",
    "id": "LbwU0ONbyrmh"
   },
   "outputs": [],
   "source": [
    "sample = (train_images[10])[np.newaxis, :]\n",
    "sample_groud_truth = (train_segs[10])[np.newaxis, :]\n",
    "pred_sample = model.predict(sample)"
   ]
  },
  {
   "cell_type": "code",
   "execution_count": 85,
   "metadata": {
    "colab": {
     "base_uri": "https://localhost:8080/",
     "height": 353
    },
    "colab_type": "code",
    "id": "B2yXAUuuyrms",
    "outputId": "8a984711-f736-47b5-a325-c81e6fa80705"
   },
   "outputs": [
    {
     "data": {
      "text/plain": [
       "<matplotlib.image.AxesImage at 0x7f4432c93d68>"
      ]
     },
     "execution_count": 85,
     "metadata": {
      "tags": []
     },
     "output_type": "execute_result"
    },
    {
     "data": {
      "image/png": "[encoded data removed]",
      "text/plain": [
       "<Figure size 1440x360 with 5 Axes>"
      ]
     },
     "metadata": {
      "tags": []
     },
     "output_type": "display_data"
    }
   ],
   "source": [
    "# Sample an image from the training data and look at the segmentation the network predicted for it\n",
    "fig, ax = plt.subplots(1, 5, figsize=(20, 5))\n",
    "ax[0].set_title('Loss')\n",
    "ax[0].semilogy(history.history['loss'])\n",
    "ax[1].set_title('Sample Image')\n",
    "ax[1].imshow(sample[0, :, :, 0])\n",
    "ax[2].set_title('Sample Ground Truth')\n",
    "ax[2].imshow(sample_groud_truth[0, :, :, 0])\n",
    "ax[3].set_title('Sample Logits')\n",
    "ax[3].imshow(pred_sample[0, :, :, 0])\n",
    "ax[4].set_title('Sample Predicted Segmentation')\n",
    "ax[4].imshow(pred_sample[0, :, :, 0] > 0.5)"
   ]
  },
  {
   "cell_type": "markdown",
   "metadata": {
    "colab_type": "text",
    "id": "QlO5rs-3yrm0"
   },
   "source": [
    "## Test\n",
    "Once the network is been train, we can now apply the test data to the network. These images were never seen by the network so how well the task is performed is an indicator of how generalized and robust the network is."
   ]
  },
  {
   "cell_type": "code",
   "execution_count": 86,
   "metadata": {
    "colab": {
     "base_uri": "https://localhost:8080/",
     "height": 293
    },
    "colab_type": "code",
    "id": "7Y8_FHSAyrm3",
    "outputId": "4f713553-40ec-4fd5-ff03-8467b54b6b3e"
   },
   "outputs": [
    {
     "name": "stdout",
     "output_type": "stream",
     "text": [
      "\r",
      "6/6 [==============================] - 0s 19ms/sample - loss: 0.4498\n",
      "Test loss: 0.4497753381729126\n"
     ]
    },
    {
     "data": {
      "image/png": "[encoded data removed]",
      "text/plain": [
       "<Figure size 1152x360 with 4 Axes>"
      ]
     },
     "metadata": {
      "tags": []
     },
     "output_type": "display_data"
    }
   ],
   "source": [
    "testloss = model.evaluate(test_images, test_segs,\n",
    "                          batch_size=10)\n",
    "\n",
    "pred = model.predict(test_images)\n",
    "\n",
    "seg = pred > 0.5\n",
    "\n",
    "fig, ax = plt.subplots(1, 4, figsize=(16, 5))\n",
    "ax[0].set_title('Test Image')\n",
    "ax[0].imshow(test_images[0, :, :, 0])\n",
    "ax[1].set_title('Ground Truth')\n",
    "ax[1].imshow(test_segs[0, :, :, 0])\n",
    "ax[2].set_title('Logits')\n",
    "ax[2].imshow(pred[0, :, :, 0])\n",
    "ax[3].set_title('Predicted Segmentation')\n",
    "ax[3].imshow(seg[0, :, :, 0])\n",
    "\n",
    "print('Test loss:', testloss)"
   ]
  },
  {
   "cell_type": "markdown",
   "metadata": {
    "colab_type": "text",
    "id": "Ca709b8jyrnB"
   },
   "source": [
    "# 2. Classification using clinical metrics \n",
    "\n",
    "In this part of the workshop, we aim to use the segmentations produced from the previous segmentation network to compute the following clinical metrics LVEDV, LVESV, LVSV and LVEF to classify the between healthy and heart failure subjects."
   ]
  },
  {
   "cell_type": "markdown",
   "metadata": {
    "colab_type": "text",
    "id": "Kn5wthxNyrnD"
   },
   "source": [
    "## DNN network\n",
    "\n",
    "For classification, we will use a deep neural network classifier (DNN) with two layers with sizes 20 and 10. To evaluate the performances of the classifier we will compute accuracy, precision and recall."
   ]
  },
  {
   "cell_type": "code",
   "execution_count": 0,
   "metadata": {
    "colab": {},
    "colab_type": "code",
    "id": "g-7tDY6hyrnF"
   },
   "outputs": [],
   "source": [
    "def compute_metrics(y_true, y_pred, target_names):\n",
    "    \"\"\" Compute metrics.\n",
    "    Parameters\n",
    "    ----------\n",
    "    y_pred: labels predicted\n",
    "    y_true: ground truth labels\n",
    "    target_names:  names matching the labels\n",
    "    \"\"\"\n",
    "\n",
    "    bacc = balanced_accuracy_score(y_true, y_pred)\n",
    "    precision = precision_score(y_true, y_pred, average=None)\n",
    "    recall = recall_score(y_true, y_pred, average=None)\n",
    "    print('Balanced accuracy  {0:.2f}'.format(bacc))\n",
    "\n",
    "    headers = [\"precision\", \"recall\"]\n",
    "\n",
    "    rows = zip(target_names, precision, recall)\n",
    "\n",
    "    digits = 2\n",
    "    longest_last_line_heading = 'weighted avg'\n",
    "    name_width = max(len(cn) for cn in target_names)\n",
    "    width = max(name_width, len(longest_last_line_heading), digits)\n",
    "    head_fmt = u'{:>{width}s} ' + u' {:>9}' * len(headers)\n",
    "    report = head_fmt.format(u'', *headers, width=width)\n",
    "    report += u'\\n\\n'\n",
    "    row_fmt = u'{:>{width}s} ' + u' {:>9.{digits}f}' + u' {:>9}\\n'\n",
    "    for row in rows:\n",
    "        report += row_fmt.format(*row, width=width, digits=digits)\n",
    "    report += u'\\n'\n",
    "\n",
    "    print(report)\n",
    "\n",
    "    return bacc * 100, precision * 100, recall * 100"
   ]
  },
  {
   "cell_type": "code",
   "execution_count": 0,
   "metadata": {
    "colab": {},
    "colab_type": "code",
    "id": "V_lwk5GCyrnO"
   },
   "outputs": [],
   "source": [
    "''' Create a DNN network for classification with two layers with sizes 20 and 10.\n",
    "Plain dense neural network of linear layers using dropout and ReLU activation.\n",
    "Size of the hidden layers: [20,10]\n",
    "numClasses: number of classes used for the classification'''\n",
    "\n",
    "inputs = keras.Input(shape=(4))\n",
    "x = keras.layers.Dense(20, activation='relu')(inputs)\n",
    "x = keras.layers.Dense(10, activation='relu')(x)\n",
    "outputs = keras.layers.Dense(1, activation='sigmoid')(x)\n",
    "\n",
    "model = keras.Model(inputs=inputs, outputs=outputs)"
   ]
  },
  {
   "cell_type": "markdown",
   "metadata": {
    "colab_type": "text",
    "id": "4UwmOkx5yrnU"
   },
   "source": [
    "## Download the data\n",
    "To ensure that everyone work with the same data, download the following file that contains the images segmented with the previous network optimised."
   ]
  },
  {
   "cell_type": "code",
   "execution_count": 0,
   "metadata": {
    "colab": {},
    "colab_type": "code",
    "id": "uOUkOCfvyrnW"
   },
   "outputs": [],
   "source": [
    "![ -f data.npz ] || wget https://github.com/Warvito/MRAI_workshop_tensorflow/raw/master/data.npz\n",
    "data_filename = 'data.npz'"
   ]
  },
  {
   "cell_type": "markdown",
   "metadata": {
    "colab_type": "text",
    "id": "iaPKTNtJyrne"
   },
   "source": [
    "## Compute clinical metrics and save them in a matrix called metrics\n",
    "- LVEDV (maximum volume of the cardiac cycle)\n",
    "- LVESV (minimum volume of the cardiac cycle)\n",
    "- LVSV = LVEDV - LVESV \n",
    "- LVEF = LVSV/LVEDV*100 \n",
    "\n",
    "Then:\n",
    "- Generate a matrix ```metrics``` that concatenate LVEDV, LVESV, LVSV and LVEF"
   ]
  },
  {
   "cell_type": "code",
   "execution_count": 0,
   "metadata": {
    "colab": {},
    "colab_type": "code",
    "id": "oasMvBY0yrng"
   },
   "outputs": [],
   "source": [
    "# Load data\n",
    "data = np.load(data_filename)\n",
    "\n",
    "# Save fields inside data\n",
    "images = data['images']  # (805, 128, 128)\n",
    "segs = data['segs']  # (805, 128, 128)\n",
    "case_names = data['caseNames']  # 45\n",
    "case_indices = data['caseIndices']  # 45\n",
    "case_type_names = ['Normal', 'Heart Failure']\n",
    "case_types = data['caseTypes']  # 45\n",
    "case_types[case_types == 2] = 0\n",
    "case_voxel_size = data['caseVoxelSize']\n",
    "is_ed_img = data['isEDImg']  # 805\n",
    "seg_types = data['segTypes']  # ['Background', 'LV Pool']\n",
    "\n",
    "# Compute LVEDV, LVESV, LVSV and LVEF\n",
    "metrics = np.zeros((len(case_names), 4))\n",
    "for ii, ind in enumerate(case_indices):\n",
    "    ind_ed_pat = is_ed_img[ind[0]:ind[1]]\n",
    "    img_pat = images[ind[0]:ind[1], :, :]\n",
    "    seg_pat = segs[ind[0]:ind[1], :, :]\n",
    "    img_ed = img_pat[ind_ed_pat, :, :]\n",
    "    img_es = img_pat[~ind_ed_pat, :, :]\n",
    "    seg_ed = seg_pat[ind_ed_pat, :, :]\n",
    "    seg_es = seg_pat[~ind_ed_pat, :, :]\n",
    "    dx, dy, dz = case_voxel_size[ii]\n",
    "    volume_per_voxel = dx * dy * dz * 1e-3\n",
    "    density = 1.05\n",
    "\n",
    "    metrics[ii, 0] = np.sum(np.sum(seg_ed == 1, axis=1)) * volume_per_voxel\n",
    "    metrics[ii, 1] = np.sum(np.sum(seg_es == 1, axis=1)) * volume_per_voxel\n",
    "    metrics[ii, 2] = metrics[ii, 0] - metrics[ii, 1]\n",
    "    metrics[ii, 3] = metrics[ii, 2] / metrics[ii, 0] * 100"
   ]
  },
  {
   "cell_type": "markdown",
   "metadata": {
    "colab_type": "text",
    "id": "s16ENh9Qyrnl"
   },
   "source": [
    "## Visualize the data\n",
    "\n",
    "Plot LVEDV, LVESV, LVSV and LVEF per groups, i.e. LVEDV and LVESV, LVSV and LVEF"
   ]
  },
  {
   "cell_type": "code",
   "execution_count": 101,
   "metadata": {
    "colab": {
     "base_uri": "https://localhost:8080/",
     "height": 367
    },
    "colab_type": "code",
    "id": "QeUFV3C7yrno",
    "outputId": "71cd2f6f-223b-4c67-e229-0be311658ca0"
   },
   "outputs": [
    {
     "data": {
      "text/plain": [
       "Text(0, 0.5, 'LVEF')"
      ]
     },
     "execution_count": 101,
     "metadata": {
      "tags": []
     },
     "output_type": "execute_result"
    },
    {
     "data": {
      "image/png": "[encoded data removed]",
      "text/plain": [
       "<Figure size 1008x360 with 2 Axes>"
      ]
     },
     "metadata": {
      "tags": []
     },
     "output_type": "display_data"
    }
   ],
   "source": [
    "def plot_two_class_data(x, y, title, _case_type_names):\n",
    "    plt.scatter(x[y == 0, 0], x[y == 0, 1], c='r', label=_case_type_names[0])\n",
    "    plt.scatter(x[y == 1, 0], x[y == 1, 1], c='b', label=_case_type_names[1])\n",
    "    plt.legend()\n",
    "    plt.title(title)\n",
    "\n",
    "plt.figure(figsize=[14, 5])\n",
    "plt.subplot(121)\n",
    "plot_two_class_data(metrics[:, 0:2], case_types, 'Healthy vs Heart Failure', case_type_names)\n",
    "plt.xlabel('LVEDV')\n",
    "plt.ylabel('LVESV')\n",
    "plt.subplot(122)\n",
    "plot_two_class_data(metrics[:, 2:], case_types, 'Healthy vs Heart Failure', case_type_names)\n",
    "plt.xlabel('LVSV')\n",
    "plt.ylabel('LVEF')"
   ]
  },
  {
   "cell_type": "markdown",
   "metadata": {
    "colab_type": "text",
    "id": "LTwaND0qyrnw"
   },
   "source": [
    "## Split data into training and test\n",
    "\n",
    "Data is unbalanced (there is no the same number of patients per group). We need to ensure that in the split training/test there is balanced number of classed. To this end use StratifiedShuffleSplit from scikit-learn that will automatically ensure that (https://scikit-learn.org/stable/modules/generated/sklearn.model_selection.StratifiedShuffleSplit.html)."
   ]
  },
  {
   "cell_type": "code",
   "execution_count": 0,
   "metadata": {
    "colab": {},
    "colab_type": "code",
    "id": "fmyUWPXYyrny"
   },
   "outputs": [],
   "source": [
    "sss = StratifiedShuffleSplit(n_splits=1, test_size=0.2, random_state=0)\n",
    "for train_index, test_index in sss.split(metrics, case_types):\n",
    "    x_train, x_test = metrics[train_index, :], metrics[test_index, :]\n",
    "    y_train, y_test = case_types[train_index], case_types[test_index]"
   ]
  },
  {
   "cell_type": "markdown",
   "metadata": {
    "colab_type": "text",
    "id": "tRfT8qNkyrn6"
   },
   "source": [
    "## Train a DNN network to perform classification\n"
   ]
  },
  {
   "cell_type": "code",
   "execution_count": 104,
   "metadata": {
    "colab": {
     "base_uri": "https://localhost:8080/",
     "height": 52
    },
    "colab_type": "code",
    "id": "Hct1Z3TYyrn8",
    "outputId": "b07f8302-903c-4064-ef39-f2d34d107a8c"
   },
   "outputs": [
    {
     "name": "stdout",
     "output_type": "stream",
     "text": [
      "CPU times: user 3.74 s, sys: 268 ms, total: 4.01 s\n",
      "Wall time: 3.45 s\n"
     ]
    }
   ],
   "source": [
    "%%time\n",
    "################\n",
    "# TO COMPLETE\n",
    "################\n",
    "# Select the Optimizer with lr = 0.005\n",
    "optimizer = keras.optimizers.Adam(lr=0.005)\n",
    "\n",
    "# Select the loss fuction for classification\n",
    "model.compile(loss=keras.losses.BinaryCrossentropy(),\n",
    "              optimizer=optimizer)\n",
    "\n",
    "n_epochs = 500\n",
    "history = model.fit(x_train, y_train,\n",
    "                    batch_size=32,\n",
    "                    epochs=n_epochs,\n",
    "                    verbose=0)"
   ]
  },
  {
   "cell_type": "markdown",
   "metadata": {
    "colab_type": "text",
    "id": "WqdoWPxWyroM"
   },
   "source": [
    "# Deploy network and compute metrics\n",
    "\n",
    "First deploy the trained netowrk and then compute the following metrics: balanced accuracy, precision, recall\n"
   ]
  },
  {
   "cell_type": "code",
   "execution_count": 105,
   "metadata": {
    "colab": {
     "base_uri": "https://localhost:8080/",
     "height": 156
    },
    "colab_type": "code",
    "id": "BSkxvK8iyroM",
    "outputId": "7bd3ca27-1c3d-4b95-9750-8cec02854a04"
   },
   "outputs": [
    {
     "name": "stdout",
     "output_type": "stream",
     "text": [
      "Balanced accuracy  0.90\n",
      "               precision    recall\n",
      "\n",
      "      Healthy       0.80       1.0\n",
      "Heart Failure       1.00       0.8\n",
      "\n",
      "\n"
     ]
    },
    {
     "data": {
      "text/plain": [
       "(90.0, array([ 80., 100.]), array([100.,  80.]))"
      ]
     },
     "execution_count": 105,
     "metadata": {
      "tags": []
     },
     "output_type": "execute_result"
    }
   ],
   "source": [
    "################\n",
    "# TO COMPLETE\n",
    "################\n",
    "# Compute the predicted label\n",
    "y_pred = model.predict(x_test)\n",
    "y_pred = y_pred > .5\n",
    "# Compute metrics\n",
    "compute_metrics(y_test, y_pred, ['Healthy','Heart Failure'])"
   ]
  }
 ],
 "metadata": {
  "accelerator": "GPU",
  "colab": {
   "name": "4_MRAI_case_study_Solutions.ipynb",
   "provenance": [],
   "version": "0.3.2"
  },
  "kernelspec": {
   "display_name": "Python 3",
   "language": "python",
   "name": "python3"
  },
  "language_info": {
   "codemirror_mode": {
    "name": "ipython",
    "version": 3
   },
   "file_extension": ".py",
   "mimetype": "text/x-python",
   "name": "python",
   "nbconvert_exporter": "python",
   "pygments_lexer": "ipython3",
   "version": "3.5.2"
  }
 },
 "nbformat": 4,
 "nbformat_minor": 1
}
